{
 "cells": [
  {
   "cell_type": "markdown",
   "id": "c7a60614",
   "metadata": {},
   "source": [
    "# Creating Combinations for Current, Time and Voltage"
   ]
  },
  {
   "cell_type": "markdown",
   "id": "ba0c4258",
   "metadata": {},
   "source": [
    "# Importing Libraries"
   ]
  },
  {
   "cell_type": "code",
   "execution_count": 1,
   "id": "972a79ce",
   "metadata": {},
   "outputs": [],
   "source": [
    "import pandas as pd\n",
    "import numpy as np\n",
    "import itertools"
   ]
  },
  {
   "cell_type": "markdown",
   "id": "00f41399",
   "metadata": {},
   "source": [
    "# Reading ranges file "
   ]
  },
  {
   "cell_type": "code",
   "execution_count": 2,
   "id": "05061028",
   "metadata": {},
   "outputs": [],
   "source": [
    "ranges = pd.read_excel(\"Ranges of New Inconel Grade.xlsx\", skiprows =1)"
   ]
  },
  {
   "cell_type": "code",
   "execution_count": 3,
   "id": "9f596bff",
   "metadata": {},
   "outputs": [
    {
     "data": {
      "text/html": [
       "<div>\n",
       "<style scoped>\n",
       "    .dataframe tbody tr th:only-of-type {\n",
       "        vertical-align: middle;\n",
       "    }\n",
       "\n",
       "    .dataframe tbody tr th {\n",
       "        vertical-align: top;\n",
       "    }\n",
       "\n",
       "    .dataframe thead th {\n",
       "        text-align: right;\n",
       "    }\n",
       "</style>\n",
       "<table border=\"1\" class=\"dataframe\">\n",
       "  <thead>\n",
       "    <tr style=\"text-align: right;\">\n",
       "      <th></th>\n",
       "      <th>Unnamed: 0</th>\n",
       "      <th>Unnamed: 1</th>\n",
       "      <th>Max IP (Amp)</th>\n",
       "      <th>Min IP (Amp)</th>\n",
       "      <th>Max Ton (µS)</th>\n",
       "      <th>Min Ton (µS)</th>\n",
       "      <th>Max Toff  (µS)</th>\n",
       "      <th>Min Toff  (µS)</th>\n",
       "      <th>Max Voltage (Volts)</th>\n",
       "      <th>Min Voltage (Volts)</th>\n",
       "    </tr>\n",
       "  </thead>\n",
       "  <tbody>\n",
       "    <tr>\n",
       "      <th>0</th>\n",
       "      <td>Inconel 188</td>\n",
       "      <td>Inconel 800</td>\n",
       "      <td>220</td>\n",
       "      <td>100</td>\n",
       "      <td>1.25</td>\n",
       "      <td>0.35</td>\n",
       "      <td>27</td>\n",
       "      <td>7</td>\n",
       "      <td>80</td>\n",
       "      <td>20</td>\n",
       "    </tr>\n",
       "    <tr>\n",
       "      <th>1</th>\n",
       "      <td>Inconel 230</td>\n",
       "      <td>Inconel 625</td>\n",
       "      <td>120</td>\n",
       "      <td>5</td>\n",
       "      <td>500.00</td>\n",
       "      <td>10.00</td>\n",
       "      <td>100</td>\n",
       "      <td>30</td>\n",
       "      <td>90</td>\n",
       "      <td>5</td>\n",
       "    </tr>\n",
       "    <tr>\n",
       "      <th>2</th>\n",
       "      <td>Inconel 713 C</td>\n",
       "      <td>Inconel 625</td>\n",
       "      <td>120</td>\n",
       "      <td>5</td>\n",
       "      <td>500.00</td>\n",
       "      <td>10.00</td>\n",
       "      <td>100</td>\n",
       "      <td>30</td>\n",
       "      <td>90</td>\n",
       "      <td>5</td>\n",
       "    </tr>\n",
       "    <tr>\n",
       "      <th>3</th>\n",
       "      <td>Inconel 751</td>\n",
       "      <td>Inconel X-750</td>\n",
       "      <td>170</td>\n",
       "      <td>8</td>\n",
       "      <td>500.00</td>\n",
       "      <td>100.00</td>\n",
       "      <td>2000</td>\n",
       "      <td>37</td>\n",
       "      <td>100</td>\n",
       "      <td>20</td>\n",
       "    </tr>\n",
       "    <tr>\n",
       "      <th>4</th>\n",
       "      <td>Inconel 792</td>\n",
       "      <td>Inconel 800</td>\n",
       "      <td>220</td>\n",
       "      <td>100</td>\n",
       "      <td>1.25</td>\n",
       "      <td>0.35</td>\n",
       "      <td>27</td>\n",
       "      <td>7</td>\n",
       "      <td>80</td>\n",
       "      <td>20</td>\n",
       "    </tr>\n",
       "    <tr>\n",
       "      <th>5</th>\n",
       "      <td>Inconel 907</td>\n",
       "      <td>Inconel 800</td>\n",
       "      <td>220</td>\n",
       "      <td>100</td>\n",
       "      <td>1.25</td>\n",
       "      <td>0.35</td>\n",
       "      <td>27</td>\n",
       "      <td>7</td>\n",
       "      <td>80</td>\n",
       "      <td>20</td>\n",
       "    </tr>\n",
       "    <tr>\n",
       "      <th>6</th>\n",
       "      <td>Inconel 909</td>\n",
       "      <td>Inconel 800</td>\n",
       "      <td>220</td>\n",
       "      <td>100</td>\n",
       "      <td>1.25</td>\n",
       "      <td>0.35</td>\n",
       "      <td>27</td>\n",
       "      <td>7</td>\n",
       "      <td>80</td>\n",
       "      <td>20</td>\n",
       "    </tr>\n",
       "    <tr>\n",
       "      <th>7</th>\n",
       "      <td>Inconel 925</td>\n",
       "      <td>Inconel 800</td>\n",
       "      <td>220</td>\n",
       "      <td>100</td>\n",
       "      <td>1.25</td>\n",
       "      <td>0.35</td>\n",
       "      <td>27</td>\n",
       "      <td>7</td>\n",
       "      <td>80</td>\n",
       "      <td>20</td>\n",
       "    </tr>\n",
       "  </tbody>\n",
       "</table>\n",
       "</div>"
      ],
      "text/plain": [
       "      Unnamed: 0     Unnamed: 1  Max IP (Amp)  Min IP (Amp)  Max Ton (µS)  \\\n",
       "0    Inconel 188    Inconel 800           220           100          1.25   \n",
       "1    Inconel 230    Inconel 625           120             5        500.00   \n",
       "2  Inconel 713 C    Inconel 625           120             5        500.00   \n",
       "3    Inconel 751  Inconel X-750           170             8        500.00   \n",
       "4    Inconel 792    Inconel 800           220           100          1.25   \n",
       "5    Inconel 907    Inconel 800           220           100          1.25   \n",
       "6    Inconel 909    Inconel 800           220           100          1.25   \n",
       "7    Inconel 925    Inconel 800           220           100          1.25   \n",
       "\n",
       "   Min Ton (µS)  Max Toff  (µS)  Min Toff  (µS)  Max Voltage (Volts)  \\\n",
       "0          0.35              27               7                   80   \n",
       "1         10.00             100              30                   90   \n",
       "2         10.00             100              30                   90   \n",
       "3        100.00            2000              37                  100   \n",
       "4          0.35              27               7                   80   \n",
       "5          0.35              27               7                   80   \n",
       "6          0.35              27               7                   80   \n",
       "7          0.35              27               7                   80   \n",
       "\n",
       "   Min Voltage (Volts)  \n",
       "0                   20  \n",
       "1                    5  \n",
       "2                    5  \n",
       "3                   20  \n",
       "4                   20  \n",
       "5                   20  \n",
       "6                   20  \n",
       "7                   20  "
      ]
     },
     "execution_count": 3,
     "metadata": {},
     "output_type": "execute_result"
    }
   ],
   "source": [
    "ranges"
   ]
  },
  {
   "cell_type": "markdown",
   "id": "3f1552b3",
   "metadata": {},
   "source": [
    "# Creating Combinations for Inconel 792, 907, 909, 925"
   ]
  },
  {
   "cell_type": "code",
   "execution_count": 4,
   "id": "4dc90dd8",
   "metadata": {},
   "outputs": [
    {
     "name": "stdout",
     "output_type": "stream",
     "text": [
      "[100, 105, 110, 115, 120, 125, 130, 135, 140, 145, 150, 155, 160, 165, 170, 175, 180, 185, 190, 195, 200, 205, 210, 215, 220]\n"
     ]
    }
   ],
   "source": [
    "# Creating list of values of Current\n",
    "\n",
    "amp = list(range(100,225, 5)) # Start value 100, End Value 225, Increment of 5\n",
    "print(amp)"
   ]
  },
  {
   "cell_type": "code",
   "execution_count": 5,
   "id": "4360ee5f",
   "metadata": {},
   "outputs": [
    {
     "name": "stdout",
     "output_type": "stream",
     "text": [
      "[0.35, 0.45, 0.55, 0.65, 0.75, 0.85, 0.95, 1.05, 1.15, 1.25]\n"
     ]
    }
   ],
   "source": [
    "# Creating list of values of Time(on)\n",
    "\n",
    "t = np.arange(0.35, 1.26, 0.1)\n",
    "ton = []\n",
    "\n",
    "for i in t:\n",
    "    ton.append(round(i,2))\n",
    "print(ton)"
   ]
  },
  {
   "cell_type": "code",
   "execution_count": 6,
   "id": "d6216053",
   "metadata": {},
   "outputs": [
    {
     "name": "stdout",
     "output_type": "stream",
     "text": [
      "[7, 9, 11, 13, 15, 17, 19, 21, 23, 25, 27]\n"
     ]
    }
   ],
   "source": [
    "# Creating list of values of Time(off)\n",
    "\n",
    "toff = list(range(7,28,2))\n",
    "print(toff)"
   ]
  },
  {
   "cell_type": "code",
   "execution_count": 7,
   "id": "6bedb0cf",
   "metadata": {},
   "outputs": [
    {
     "name": "stdout",
     "output_type": "stream",
     "text": [
      "[20, 25, 30, 35, 40, 45, 50, 55, 60, 65, 70, 75, 80]\n"
     ]
    }
   ],
   "source": [
    "# Creating list of values of Voltage\n",
    "\n",
    "volt = list(range(20,81,5))\n",
    "print(volt)"
   ]
  },
  {
   "cell_type": "markdown",
   "id": "5fd6b568",
   "metadata": {},
   "source": [
    "# Creating product combinations of all 4 parameters"
   ]
  },
  {
   "cell_type": "code",
   "execution_count": 8,
   "id": "e687e187",
   "metadata": {},
   "outputs": [],
   "source": [
    "comb = list(itertools.product(amp,ton,toff, volt))"
   ]
  },
  {
   "cell_type": "code",
   "execution_count": 9,
   "id": "11a01309",
   "metadata": {},
   "outputs": [],
   "source": [
    "in792 = pd.DataFrame(comb, columns = [\"Amp\", \"Ton\", \"Toff\", \"Volt\"])"
   ]
  },
  {
   "cell_type": "markdown",
   "id": "5e13d96a",
   "metadata": {},
   "source": [
    "# First 10 rows of combination file"
   ]
  },
  {
   "cell_type": "code",
   "execution_count": 10,
   "id": "f691cc78",
   "metadata": {},
   "outputs": [
    {
     "data": {
      "text/html": [
       "<div>\n",
       "<style scoped>\n",
       "    .dataframe tbody tr th:only-of-type {\n",
       "        vertical-align: middle;\n",
       "    }\n",
       "\n",
       "    .dataframe tbody tr th {\n",
       "        vertical-align: top;\n",
       "    }\n",
       "\n",
       "    .dataframe thead th {\n",
       "        text-align: right;\n",
       "    }\n",
       "</style>\n",
       "<table border=\"1\" class=\"dataframe\">\n",
       "  <thead>\n",
       "    <tr style=\"text-align: right;\">\n",
       "      <th></th>\n",
       "      <th>Amp</th>\n",
       "      <th>Ton</th>\n",
       "      <th>Toff</th>\n",
       "      <th>Volt</th>\n",
       "    </tr>\n",
       "  </thead>\n",
       "  <tbody>\n",
       "    <tr>\n",
       "      <th>0</th>\n",
       "      <td>100</td>\n",
       "      <td>0.35</td>\n",
       "      <td>7</td>\n",
       "      <td>20</td>\n",
       "    </tr>\n",
       "    <tr>\n",
       "      <th>1</th>\n",
       "      <td>100</td>\n",
       "      <td>0.35</td>\n",
       "      <td>7</td>\n",
       "      <td>25</td>\n",
       "    </tr>\n",
       "    <tr>\n",
       "      <th>2</th>\n",
       "      <td>100</td>\n",
       "      <td>0.35</td>\n",
       "      <td>7</td>\n",
       "      <td>30</td>\n",
       "    </tr>\n",
       "    <tr>\n",
       "      <th>3</th>\n",
       "      <td>100</td>\n",
       "      <td>0.35</td>\n",
       "      <td>7</td>\n",
       "      <td>35</td>\n",
       "    </tr>\n",
       "    <tr>\n",
       "      <th>4</th>\n",
       "      <td>100</td>\n",
       "      <td>0.35</td>\n",
       "      <td>7</td>\n",
       "      <td>40</td>\n",
       "    </tr>\n",
       "    <tr>\n",
       "      <th>5</th>\n",
       "      <td>100</td>\n",
       "      <td>0.35</td>\n",
       "      <td>7</td>\n",
       "      <td>45</td>\n",
       "    </tr>\n",
       "    <tr>\n",
       "      <th>6</th>\n",
       "      <td>100</td>\n",
       "      <td>0.35</td>\n",
       "      <td>7</td>\n",
       "      <td>50</td>\n",
       "    </tr>\n",
       "    <tr>\n",
       "      <th>7</th>\n",
       "      <td>100</td>\n",
       "      <td>0.35</td>\n",
       "      <td>7</td>\n",
       "      <td>55</td>\n",
       "    </tr>\n",
       "    <tr>\n",
       "      <th>8</th>\n",
       "      <td>100</td>\n",
       "      <td>0.35</td>\n",
       "      <td>7</td>\n",
       "      <td>60</td>\n",
       "    </tr>\n",
       "    <tr>\n",
       "      <th>9</th>\n",
       "      <td>100</td>\n",
       "      <td>0.35</td>\n",
       "      <td>7</td>\n",
       "      <td>65</td>\n",
       "    </tr>\n",
       "  </tbody>\n",
       "</table>\n",
       "</div>"
      ],
      "text/plain": [
       "   Amp   Ton  Toff  Volt\n",
       "0  100  0.35     7    20\n",
       "1  100  0.35     7    25\n",
       "2  100  0.35     7    30\n",
       "3  100  0.35     7    35\n",
       "4  100  0.35     7    40\n",
       "5  100  0.35     7    45\n",
       "6  100  0.35     7    50\n",
       "7  100  0.35     7    55\n",
       "8  100  0.35     7    60\n",
       "9  100  0.35     7    65"
      ]
     },
     "execution_count": 10,
     "metadata": {},
     "output_type": "execute_result"
    }
   ],
   "source": [
    "in792.head(10)"
   ]
  },
  {
   "cell_type": "markdown",
   "id": "c2b135ea",
   "metadata": {},
   "source": [
    "# Last 10 rows of combination file"
   ]
  },
  {
   "cell_type": "code",
   "execution_count": 11,
   "id": "0acb584b",
   "metadata": {},
   "outputs": [
    {
     "data": {
      "text/html": [
       "<div>\n",
       "<style scoped>\n",
       "    .dataframe tbody tr th:only-of-type {\n",
       "        vertical-align: middle;\n",
       "    }\n",
       "\n",
       "    .dataframe tbody tr th {\n",
       "        vertical-align: top;\n",
       "    }\n",
       "\n",
       "    .dataframe thead th {\n",
       "        text-align: right;\n",
       "    }\n",
       "</style>\n",
       "<table border=\"1\" class=\"dataframe\">\n",
       "  <thead>\n",
       "    <tr style=\"text-align: right;\">\n",
       "      <th></th>\n",
       "      <th>Amp</th>\n",
       "      <th>Ton</th>\n",
       "      <th>Toff</th>\n",
       "      <th>Volt</th>\n",
       "    </tr>\n",
       "  </thead>\n",
       "  <tbody>\n",
       "    <tr>\n",
       "      <th>35740</th>\n",
       "      <td>220</td>\n",
       "      <td>1.25</td>\n",
       "      <td>27</td>\n",
       "      <td>35</td>\n",
       "    </tr>\n",
       "    <tr>\n",
       "      <th>35741</th>\n",
       "      <td>220</td>\n",
       "      <td>1.25</td>\n",
       "      <td>27</td>\n",
       "      <td>40</td>\n",
       "    </tr>\n",
       "    <tr>\n",
       "      <th>35742</th>\n",
       "      <td>220</td>\n",
       "      <td>1.25</td>\n",
       "      <td>27</td>\n",
       "      <td>45</td>\n",
       "    </tr>\n",
       "    <tr>\n",
       "      <th>35743</th>\n",
       "      <td>220</td>\n",
       "      <td>1.25</td>\n",
       "      <td>27</td>\n",
       "      <td>50</td>\n",
       "    </tr>\n",
       "    <tr>\n",
       "      <th>35744</th>\n",
       "      <td>220</td>\n",
       "      <td>1.25</td>\n",
       "      <td>27</td>\n",
       "      <td>55</td>\n",
       "    </tr>\n",
       "    <tr>\n",
       "      <th>35745</th>\n",
       "      <td>220</td>\n",
       "      <td>1.25</td>\n",
       "      <td>27</td>\n",
       "      <td>60</td>\n",
       "    </tr>\n",
       "    <tr>\n",
       "      <th>35746</th>\n",
       "      <td>220</td>\n",
       "      <td>1.25</td>\n",
       "      <td>27</td>\n",
       "      <td>65</td>\n",
       "    </tr>\n",
       "    <tr>\n",
       "      <th>35747</th>\n",
       "      <td>220</td>\n",
       "      <td>1.25</td>\n",
       "      <td>27</td>\n",
       "      <td>70</td>\n",
       "    </tr>\n",
       "    <tr>\n",
       "      <th>35748</th>\n",
       "      <td>220</td>\n",
       "      <td>1.25</td>\n",
       "      <td>27</td>\n",
       "      <td>75</td>\n",
       "    </tr>\n",
       "    <tr>\n",
       "      <th>35749</th>\n",
       "      <td>220</td>\n",
       "      <td>1.25</td>\n",
       "      <td>27</td>\n",
       "      <td>80</td>\n",
       "    </tr>\n",
       "  </tbody>\n",
       "</table>\n",
       "</div>"
      ],
      "text/plain": [
       "       Amp   Ton  Toff  Volt\n",
       "35740  220  1.25    27    35\n",
       "35741  220  1.25    27    40\n",
       "35742  220  1.25    27    45\n",
       "35743  220  1.25    27    50\n",
       "35744  220  1.25    27    55\n",
       "35745  220  1.25    27    60\n",
       "35746  220  1.25    27    65\n",
       "35747  220  1.25    27    70\n",
       "35748  220  1.25    27    75\n",
       "35749  220  1.25    27    80"
      ]
     },
     "execution_count": 11,
     "metadata": {},
     "output_type": "execute_result"
    }
   ],
   "source": [
    "in792.tail(10)"
   ]
  },
  {
   "cell_type": "markdown",
   "id": "245c5e71",
   "metadata": {},
   "source": [
    "# Laslty each combination file was saved in csv format "
   ]
  },
  {
   "cell_type": "markdown",
   "id": "a95ec868",
   "metadata": {},
   "source": [
    "Note: Same code was repeated for the rest of the Inconel Grades"
   ]
  }
 ],
 "metadata": {
  "kernelspec": {
   "display_name": "Python 3 (ipykernel)",
   "language": "python",
   "name": "python3"
  },
  "language_info": {
   "codemirror_mode": {
    "name": "ipython",
    "version": 3
   },
   "file_extension": ".py",
   "mimetype": "text/x-python",
   "name": "python",
   "nbconvert_exporter": "python",
   "pygments_lexer": "ipython3",
   "version": "3.9.12"
  }
 },
 "nbformat": 4,
 "nbformat_minor": 5
}
