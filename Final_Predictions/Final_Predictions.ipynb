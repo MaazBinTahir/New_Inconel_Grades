{
 "cells": [
  {
   "cell_type": "markdown",
   "id": "7a86a5ef",
   "metadata": {},
   "source": [
    "# Final Predictions"
   ]
  },
  {
   "cell_type": "markdown",
   "id": "ab2a41ea",
   "metadata": {},
   "source": [
    "# Importing Libraries"
   ]
  },
  {
   "cell_type": "code",
   "execution_count": 1,
   "id": "b0b302cc",
   "metadata": {},
   "outputs": [],
   "source": [
    "import pandas as pd\n",
    "import numpy as np\n",
    "import matplotlib.pyplot as plt\n",
    "import seaborn as sns\n",
    "import glob"
   ]
  },
  {
   "cell_type": "code",
   "execution_count": 2,
   "id": "d7b4506a",
   "metadata": {},
   "outputs": [],
   "source": [
    "from sklearn.model_selection import train_test_split\n",
    "from sklearn import neighbors\n",
    "from sklearn.metrics import mean_squared_error \n",
    "from math import sqrt\n",
    "from sklearn.svm import SVR\n",
    "from sklearn.multioutput import MultiOutputRegressor"
   ]
  },
  {
   "cell_type": "code",
   "execution_count": 3,
   "id": "2007e7c4",
   "metadata": {},
   "outputs": [],
   "source": [
    "from sklearn.linear_model import LinearRegression\n",
    "from sklearn.ensemble import RandomForestRegressor"
   ]
  },
  {
   "cell_type": "code",
   "execution_count": 4,
   "id": "42f778af",
   "metadata": {},
   "outputs": [],
   "source": [
    "from sklearn.preprocessing import StandardScaler\n",
    "sc = StandardScaler() # Creating instance for standard scaler"
   ]
  },
  {
   "cell_type": "markdown",
   "id": "565dbabc",
   "metadata": {},
   "source": [
    "# Importing Training Dataset"
   ]
  },
  {
   "cell_type": "code",
   "execution_count": 5,
   "id": "1384bb85",
   "metadata": {},
   "outputs": [],
   "source": [
    "data = pd.read_excel(\"Inconel_Compiled_Data_New_elems.xlsx\")"
   ]
  },
  {
   "cell_type": "code",
   "execution_count": 6,
   "id": "3086da16",
   "metadata": {},
   "outputs": [],
   "source": [
    "df = data.copy()"
   ]
  },
  {
   "cell_type": "markdown",
   "id": "5f59b0af",
   "metadata": {},
   "source": [
    "# Separating X and Y variables"
   ]
  },
  {
   "cell_type": "code",
   "execution_count": 7,
   "id": "cb935594",
   "metadata": {},
   "outputs": [],
   "source": [
    "x = df.drop([\"Type\", \"Surface Roughness (µm)\" , \"MRR (mm3/min)\"], axis = 1).to_numpy()\n",
    "y = df[[\"Surface Roughness (µm)\" , \"MRR (mm3/min)\"]].to_numpy()"
   ]
  },
  {
   "cell_type": "markdown",
   "id": "93d2b300",
   "metadata": {},
   "source": [
    "# Standardizing X variables"
   ]
  },
  {
   "cell_type": "code",
   "execution_count": 8,
   "id": "b0d670c5",
   "metadata": {},
   "outputs": [],
   "source": [
    "x_scaled = sc.fit_transform(x)"
   ]
  },
  {
   "cell_type": "markdown",
   "id": "c6484f91",
   "metadata": {},
   "source": [
    "# Training Random Forest (no. of trees = 20) and taking predictions based on providing complete dataset"
   ]
  },
  {
   "cell_type": "code",
   "execution_count": 9,
   "id": "40b86b56",
   "metadata": {},
   "outputs": [
    {
     "data": {
      "text/html": [
       "<div>\n",
       "<style scoped>\n",
       "    .dataframe tbody tr th:only-of-type {\n",
       "        vertical-align: middle;\n",
       "    }\n",
       "\n",
       "    .dataframe tbody tr th {\n",
       "        vertical-align: top;\n",
       "    }\n",
       "\n",
       "    .dataframe thead th {\n",
       "        text-align: right;\n",
       "    }\n",
       "</style>\n",
       "<table border=\"1\" class=\"dataframe\">\n",
       "  <thead>\n",
       "    <tr style=\"text-align: right;\">\n",
       "      <th></th>\n",
       "      <th>Estimators</th>\n",
       "      <th>RMSE_SR</th>\n",
       "      <th>RMSE_MRR</th>\n",
       "    </tr>\n",
       "  </thead>\n",
       "  <tbody>\n",
       "    <tr>\n",
       "      <th>0</th>\n",
       "      <td>20</td>\n",
       "      <td>0.761094</td>\n",
       "      <td>25.272881</td>\n",
       "    </tr>\n",
       "  </tbody>\n",
       "</table>\n",
       "</div>"
      ],
      "text/plain": [
       "   Estimators   RMSE_SR   RMSE_MRR\n",
       "0          20  0.761094  25.272881"
      ]
     },
     "execution_count": 9,
     "metadata": {},
     "output_type": "execute_result"
    }
   ],
   "source": [
    "fr = []\n",
    "\n",
    "# Model Training and Predictions\n",
    "lr = RandomForestRegressor(n_estimators=20, random_state=42)\n",
    "lr.fit(x_scaled,y)\n",
    "\n",
    "predict = lr.predict(x_scaled)\n",
    "\n",
    "actual = y\n",
    "\n",
    "# RMSE Calculation\n",
    "sr_p_20 = [i[0] for i in predict]\n",
    "sr_a_20 = [i[0] for i in actual]\n",
    "\n",
    "mrr_p_20 = [i[1] for i in predict]\n",
    "mrr_a_20 = [i[1] for i in actual]\n",
    "\n",
    "\n",
    "summation_sr_20 = 0  #variable to store the summation of differences\n",
    "summation_mrr_20 = 0\n",
    "\n",
    "n = len(sr_a_20) #finding total number of items in list\n",
    "\n",
    "for i in range (0,n):  #looping through each element of the list\n",
    "\n",
    "    difference_sr_20 = sr_a_20[i] - sr_p_20[i]  #finding the difference between observed and predicted value\n",
    "    difference_mrr_20 = mrr_a_20[i] - mrr_p_20[i]\n",
    "\n",
    "    squared_difference_sr_20 = difference_sr_20**2  #taking square of the differences\n",
    "    squared_difference_mrr_20 = difference_mrr_20**2\n",
    "\n",
    "    summation_sr_20 = summation_sr_20 + squared_difference_sr_20  #taking a sum of all the differences\n",
    "    summation_mrr_20 = summation_mrr_20 + squared_difference_mrr_20\n",
    "\n",
    "MSE_sr_20 = summation_sr_20/n\n",
    "MSE_mrr_20 = summation_mrr_20/n\n",
    "\n",
    "RMSE_sr_20 = np.sqrt(MSE_sr_20)\n",
    "RMSE_mrr_20 = np.sqrt(MSE_mrr_20)\n",
    "\n",
    "\n",
    "dictionary = {\n",
    "    \"Estimators\" : 20,\n",
    "    \"RMSE_SR\" : RMSE_sr_20,\n",
    "    \"RMSE_MRR\" : RMSE_mrr_20            \n",
    "    }\n",
    "\n",
    "\n",
    "fr.append(dictionary)\n",
    "\n",
    "final_rf_20 = pd.DataFrame(fr)\n",
    "\n",
    "final_rf_20"
   ]
  },
  {
   "cell_type": "markdown",
   "id": "c222a0dd",
   "metadata": {},
   "source": [
    "# Creating a dictionary containing grades of Inconel (along with chemical compositions) and their respective combintaions of Current, Time and Voltage"
   ]
  },
  {
   "cell_type": "code",
   "execution_count": 10,
   "id": "6864355f",
   "metadata": {},
   "outputs": [
    {
     "data": {
      "text/plain": [
       "{'Inconel 188': 'Combinations\\\\In188_Combinations.csv',\n",
       " 'Inconel 230': 'Combinations\\\\In230_Combinations.csv',\n",
       " 'Inconel 713 C': 'Combinations\\\\In713C_Combinations.csv',\n",
       " 'Inconel 751': 'Combinations\\\\In751_Combinations.csv',\n",
       " 'Inconel 792': 'Combinations\\\\In792_Combinations.csv',\n",
       " 'Inconel 907': 'Combinations\\\\In907_Combinations.csv',\n",
       " 'Inconel 909': 'Combinations\\\\In909_Combinations.csv',\n",
       " 'Inconel 925': 'Combinations\\\\In925_Combinations.csv'}"
      ]
     },
     "execution_count": 10,
     "metadata": {},
     "output_type": "execute_result"
    }
   ],
   "source": [
    "# Reading Chemcical Composition of New Grades File\n",
    "chem = pd.read_excel(\"New_Grades_Chem_Comp_Mean.xlsx\")\n",
    "chem.set_index(\"Type\", inplace = True, drop = True)\n",
    "\n",
    "# Creating a list which contains all the new Inconel grades\n",
    "lst = list(chem.index)\n",
    "\n",
    "# Reading all the combinations CSV files\n",
    "comb = glob.glob(r\"Combinations\\*.csv\")\n",
    "\n",
    "# Creating a dictionary containing names of Inconel with chemical compositions and their respective combintaions\n",
    "dict1 = dict(zip(lst, comb))\n",
    "dict1"
   ]
  },
  {
   "cell_type": "markdown",
   "id": "d9e5e878",
   "metadata": {},
   "source": [
    "# Predictions and Summarizing Results of New Grades of Inconel based on Trained RF Model (Trees = 20)"
   ]
  },
  {
   "cell_type": "code",
   "execution_count": 11,
   "id": "ad892155",
   "metadata": {},
   "outputs": [],
   "source": [
    "# Iterating over dictionary for each New Inconel grade's chemical compostion and its combinations for Current,\n",
    "# Time and Voltage\n",
    "\n",
    "for k,j in dict1.items():\n",
    "    \n",
    "    # Saving Inconel Combinations file \n",
    "    file = pd.read_csv(r\"{}\".format(j))\n",
    "    \n",
    "    # Locating corresponding name of Inconel \n",
    "    composition = chem.loc[k]\n",
    "    \n",
    "    # Coverting above variable into DataFrame\n",
    "    a = pd.DataFrame(composition)\n",
    "    \n",
    "    # Transposing and Concatenating Inconel's Chemical Compostion and its combination\n",
    "    b = a.T\n",
    "    c= b.reset_index()\n",
    "    d = pd.concat([c, file], axis = 1)\n",
    "    \n",
    "    \n",
    "    # Filling null values and saving the file\n",
    "    input_param = d.fillna(method = \"ffill\")\n",
    "    input_param.to_csv(\"{}_input_params.csv\".format(k), index = False)\n",
    "    \n",
    "    # Standardizing the input parameters\n",
    "    x1 = input_param.drop(\"index\", axis = 1).to_numpy()\n",
    "    x = sc.transform(x1)\n",
    "    \n",
    "    # Taking Predictions based on input parameters (x), by trained RF model  \n",
    "    predictions = lr.predict(x)\n",
    "    \n",
    "    # Saving the results in a csv file\n",
    "    df33 = pd.DataFrame(predictions, columns = [\"SR\", \"MRR\"])\n",
    "    df2 = pd.concat([input_param ,df33], axis = 1)\n",
    "    df3 = df2.iloc[:,-6:]\n",
    "    df3.to_csv(\"{}_Results.csv\".format(k), index = False )\n",
    "    \n",
    "    # Summarizing Unique Values in SR and MRR and ssaving to a csv\n",
    "    df44 = pd.DataFrame()\n",
    "\n",
    "    for i in df3[\"SR\"].unique():\n",
    "\n",
    "        df = df3[df3[\"SR\"] == i]\n",
    "        df11 = pd.DataFrame()\n",
    "\n",
    "        for i in df.columns[:4]:\n",
    "\n",
    "            mn = str(df[i].min())\n",
    "            mx = str(df[i].max())\n",
    "\n",
    "            r = \"{}-{}\".format(mn, mx)\n",
    "\n",
    "            dict1 = {\n",
    "                \"Range_of_{}\".format(i) : r \n",
    "            }\n",
    "\n",
    "            a = pd.DataFrame(dict1, index = [0])\n",
    "            df11= pd.concat([df11,a],axis =1)\n",
    "\n",
    "\n",
    "        df22 = pd.DataFrame()\n",
    "\n",
    "        for i in df.columns[-2:]:\n",
    "\n",
    "            r = str(df[i].min())\n",
    "\n",
    "            dict2 = {\n",
    "            \"{}\".format(i) : r\n",
    "            }\n",
    "\n",
    "            c = pd.DataFrame(dict2, index = [0])\n",
    "            df22= pd.concat([df22,c],axis =1)\n",
    "\n",
    "        df33 =pd.concat([df11, df22], axis = 1)\n",
    "\n",
    "        df44 = pd.concat([df44, df33])\n",
    "        \n",
    "    df44.to_excel(\"{}_Summary.xlsx\".format(k), index = False)"
   ]
  }
 ],
 "metadata": {
  "kernelspec": {
   "display_name": "Python 3 (ipykernel)",
   "language": "python",
   "name": "python3"
  },
  "language_info": {
   "codemirror_mode": {
    "name": "ipython",
    "version": 3
   },
   "file_extension": ".py",
   "mimetype": "text/x-python",
   "name": "python",
   "nbconvert_exporter": "python",
   "pygments_lexer": "ipython3",
   "version": "3.9.12"
  }
 },
 "nbformat": 4,
 "nbformat_minor": 5
}
